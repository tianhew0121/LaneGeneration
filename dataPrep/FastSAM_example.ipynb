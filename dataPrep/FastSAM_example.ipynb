{
  "cells": [
    {
      "cell_type": "code",
      "execution_count": 2,
      "metadata": {
        "id": "I64YhiKsS2KU"
      },
      "outputs": [],
      "source": [
        "import matplotlib.pyplot as plt\n",
        "import cv2"
      ]
    },
    {
      "cell_type": "code",
      "execution_count": 3,
      "metadata": {
        "id": "lpQuZeL5S62g"
      },
      "outputs": [],
      "source": [
        "from FastSAM.fastsam import FastSAM, FastSAMPrompt"
      ]
    },
    {
      "cell_type": "code",
      "execution_count": 9,
      "metadata": {
        "colab": {
          "base_uri": "https://localhost:8080/"
        },
        "id": "H0j06M5ewlH2",
        "outputId": "4f397e53-bf95-49ac-8673-05216f2242c4"
      },
      "outputs": [
        {
          "name": "stderr",
          "output_type": "stream",
          "text": [
            "Processing Images:   0%|          | 0/1 [00:00<?, ?it/s]\n",
            "image 1/1 /Users/wangtianhe/Desktop/USC/Fall 2023/EE641 Deep Learning Systems/LaneGeneration/src/test_images/10001/4.jpg: 576x1024 18 objects, 745.5ms\n",
            "Speed: 2.3ms preprocess, 745.5ms inference, 17.2ms postprocess per image at shape (1, 3, 1024, 1024)\n",
            "\n",
            "image 1/1 /Users/wangtianhe/Desktop/USC/Fall 2023/EE641 Deep Learning Systems/LaneGeneration/src/test_images/10001/5.jpg: 576x1024 34 objects, 743.1ms\n",
            "Speed: 2.0ms preprocess, 743.1ms inference, 31.1ms postprocess per image at shape (1, 3, 1024, 1024)\n",
            "\n",
            "image 1/1 /Users/wangtianhe/Desktop/USC/Fall 2023/EE641 Deep Learning Systems/LaneGeneration/src/test_images/10001/3.jpg: 576x1024 44 objects, 741.4ms\n",
            "Speed: 2.3ms preprocess, 741.4ms inference, 44.5ms postprocess per image at shape (1, 3, 1024, 1024)\n",
            "Processing Images: 100%|██████████| 1/1 [00:04<00:00,  4.61s/it]\n"
          ]
        },
        {
          "ename": "",
          "evalue": "",
          "output_type": "error",
          "traceback": [
            "\u001b[1;31mThe Kernel crashed while executing code in the the current cell or a previous cell. Please review the code in the cell(s) to identify a possible cause of the failure. Click <a href='https://aka.ms/vscodeJupyterKernelCrash'>here</a> for more info. View Jupyter <a href='command:jupyter.viewOutput'>log</a> for further details."
          ]
        }
      ],
      "source": [
        "import os\n",
        "from tqdm import tqdm\n",
        "\n",
        "def generate_and_save_mask_images(model_path, original_folder_path, mask_folder_path, device='cpu'):\n",
        "    # Initialize the FastSAM model\n",
        "    model = FastSAM(model_path)\n",
        "\n",
        "    # Create the root directory for mask images\n",
        "    if not os.path.exists(mask_folder_path):\n",
        "        os.makedirs(mask_folder_path)\n",
        "\n",
        "    # Iterate through all subfolders and process each image\n",
        "    image_folders = [folder for folder in os.listdir(original_folder_path) if os.path.isdir(os.path.join(original_folder_path, folder))]\n",
        "    for img_folder_name in tqdm(image_folders, desc=\"Processing Images\"):\n",
        "        img_folder_path = os.path.join(original_folder_path, img_folder_name)\n",
        "        mask_subfolder_path = os.path.join(mask_folder_path, img_folder_name)\n",
        "\n",
        "        # Create subdirectory for mask images\n",
        "        if not os.path.exists(mask_subfolder_path):\n",
        "            os.makedirs(mask_subfolder_path)\n",
        "\n",
        "        image_files = [f for f in os.listdir(img_folder_path) if f.endswith('.jpg')]\n",
        "        for filename in image_files:\n",
        "            file_path = os.path.join(img_folder_path, filename)\n",
        "            output_path = os.path.join(mask_subfolder_path, filename)\n",
        "\n",
        "            # Process the image with FastSAM and FastSAMPrompt\n",
        "            everything_results = model(file_path, device=device, retina_masks=True, imgsz=1024, conf=0.4, iou=0.9)\n",
        "            prompt_process = FastSAMPrompt(file_path, everything_results, device=device)\n",
        "            ann = prompt_process.everything_prompt()\n",
        "\n",
        "            # Save the output\n",
        "            prompt_process.plot(annotations=ann, output_path=output_path)\n",
        "\n",
        "# Example usage\n",
        "model_path = './saved_models/SAM/FastSAM-x.pt'\n",
        "# original_folder_path = './archive_/archive/TUSimple/train_set/clips/0601/'\n",
        "original_folder_path = './test_images/'\n",
        "mask_folder_path = './mask_sam_test/'\n",
        "generate_and_save_mask_images(model_path, original_folder_path, mask_folder_path)\n"
      ]
    },
    {
      "cell_type": "code",
      "execution_count": null,
      "metadata": {
        "colab": {
          "base_uri": "https://localhost:8080/"
        },
        "id": "0W8zHoChyq98",
        "outputId": "c887d76a-c30d-4195-dd4e-9a28d4998b38"
      },
      "outputs": [],
      "source": [
        "!ls"
      ]
    },
    {
      "cell_type": "code",
      "execution_count": null,
      "metadata": {
        "colab": {
          "base_uri": "https://localhost:8080/"
        },
        "id": "GQvMFbDdyrZ_",
        "outputId": "97400892-e0be-4b66-bf9f-25f031d186d5"
      },
      "outputs": [],
      "source": [
        "!ls ./archive_/archive/TUSimple/train_set/clips/0313-1/"
      ]
    },
    {
      "cell_type": "code",
      "execution_count": null,
      "metadata": {
        "id": "bWHDCeWa0qoj"
      },
      "outputs": [],
      "source": []
    }
  ],
  "metadata": {
    "accelerator": "GPU",
    "colab": {
      "gpuType": "A100",
      "machine_shape": "hm",
      "provenance": []
    },
    "kernelspec": {
      "display_name": "Python 3",
      "name": "python3"
    },
    "language_info": {
      "codemirror_mode": {
        "name": "ipython",
        "version": 3
      },
      "file_extension": ".py",
      "mimetype": "text/x-python",
      "name": "python",
      "nbconvert_exporter": "python",
      "pygments_lexer": "ipython3",
      "version": "3.11.4"
    }
  },
  "nbformat": 4,
  "nbformat_minor": 0
}
